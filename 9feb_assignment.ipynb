{
 "cells": [
  {
   "cell_type": "code",
   "execution_count": 8,
   "id": "1c754889-b21f-4f5e-b898-59567cca7dbd",
   "metadata": {},
   "outputs": [],
   "source": [
    "# 1 ans :-  `5"
   ]
  },
  {
   "cell_type": "code",
   "execution_count": 9,
   "id": "34775392-2fae-4868-84d4-66ddb393e5fa",
   "metadata": {},
   "outputs": [],
   "source": [
    "class vehicle :\n",
    "    def __init__(self, name_of_vehicle,max_speed,average_of_vehicle) :\n",
    "        self.name_of_vehicle = name_of_vehicle\n",
    "        self.max_speed = max_speed\n",
    "        self.average_of_vehicle = average_of_vehicle\n",
    "        "
   ]
  },
  {
   "cell_type": "code",
   "execution_count": 10,
   "id": "14da6ee9-2440-465c-a2de-75c3e01919af",
   "metadata": {},
   "outputs": [],
   "source": [
    "car = vehicle(\"toyota\", 120, 30)"
   ]
  },
  {
   "cell_type": "code",
   "execution_count": 11,
   "id": "affc7bff-5cf2-4a89-9e83-5dd9cb603725",
   "metadata": {},
   "outputs": [
    {
     "name": "stdout",
     "output_type": "stream",
     "text": [
      "toyota\n"
     ]
    }
   ],
   "source": [
    "print(car.name_of_vehicle)"
   ]
  },
  {
   "cell_type": "code",
   "execution_count": 12,
   "id": "283245a1-fd63-4a03-b06f-8addf83a9d24",
   "metadata": {},
   "outputs": [
    {
     "name": "stdout",
     "output_type": "stream",
     "text": [
      "120\n"
     ]
    }
   ],
   "source": [
    "print(car.max_speed)"
   ]
  },
  {
   "cell_type": "code",
   "execution_count": 13,
   "id": "f622ed69-cb48-490c-b204-5eee4e20224f",
   "metadata": {},
   "outputs": [
    {
     "name": "stdout",
     "output_type": "stream",
     "text": [
      "30\n"
     ]
    }
   ],
   "source": [
    "print(car.average_of_vehicle)"
   ]
  },
  {
   "cell_type": "code",
   "execution_count": 14,
   "id": "9bdf8b8a-1262-43a8-8709-3bdb75668a38",
   "metadata": {},
   "outputs": [],
   "source": [
    "# 2 ans :-"
   ]
  },
  {
   "cell_type": "code",
   "execution_count": 30,
   "id": "0ca3f1cd-1295-4e70-8b08-9eea30812bde",
   "metadata": {},
   "outputs": [],
   "source": [
    "class Car(vehicle):\n",
    "    def seating_capacity(self, capacity):\n",
    "        return capacity"
   ]
  },
  {
   "cell_type": "code",
   "execution_count": 33,
   "id": "c3332d69-c83a-4fe0-a2ed-f3aec7c014c1",
   "metadata": {},
   "outputs": [
    {
     "name": "stdout",
     "output_type": "stream",
     "text": [
      "5\n"
     ]
    }
   ],
   "source": [
    "print(car.seating_capacity(5))  "
   ]
  },
  {
   "cell_type": "code",
   "execution_count": 34,
   "id": "0d85158a-7973-43eb-a1ed-5dfd4482114a",
   "metadata": {},
   "outputs": [],
   "source": [
    " # ans :-"
   ]
  },
  {
   "cell_type": "code",
   "execution_count": 35,
   "id": "b1645ce1-40f9-4f2c-9d1f-90e8cbe0686f",
   "metadata": {},
   "outputs": [
    {
     "data": {
      "text/plain": [
       "'Multiple inheritance is a feature of object-oriented programming where a class can inherit attributes and methods from multiple parent classes.'"
      ]
     },
     "execution_count": 35,
     "metadata": {},
     "output_type": "execute_result"
    }
   ],
   "source": [
    "\"\"\"Multiple inheritance is a feature of object-oriented programming where a class can inherit attributes and methods from multiple parent classes.\"\"\""
   ]
  },
  {
   "cell_type": "code",
   "execution_count": 45,
   "id": "7efbf925-78dd-4e35-949e-a4f89a450755",
   "metadata": {},
   "outputs": [],
   "source": [
    "#example :\n",
    "class A:\n",
    "    def method_a(self):\n",
    "        print(\"Method A\")\n",
    "\n",
    "class B:\n",
    "    def method_b(self):\n",
    "        print(\"Method B\")\n",
    "\n",
    "class C(A, B):\n",
    "    def method_c(self):\n",
    "        print(\"Method C\")\n"
   ]
  },
  {
   "cell_type": "code",
   "execution_count": 46,
   "id": "ff1bd3aa-63ef-428f-8dcb-2109b769ef06",
   "metadata": {},
   "outputs": [
    {
     "name": "stdout",
     "output_type": "stream",
     "text": [
      "Method A\n",
      "Method B\n",
      "Method C\n"
     ]
    }
   ],
   "source": [
    "obj = C()\n",
    "obj.method_a() \n",
    "obj.method_b()  \n",
    "obj.method_c() \n"
   ]
  },
  {
   "cell_type": "code",
   "execution_count": 47,
   "id": "f54136ac-4b17-4553-993e-892ddade66e1",
   "metadata": {},
   "outputs": [],
   "source": [
    "# 4 ans :::-"
   ]
  },
  {
   "cell_type": "code",
   "execution_count": 48,
   "id": "27bd0066-34ec-4bdb-b87a-01f0f631e4c6",
   "metadata": {},
   "outputs": [
    {
     "data": {
      "text/plain": [
       "'Getters and setters in Python are methods used to access and modify the values of class attributes, allowing encapsulation and abstraction of data within a class.'"
      ]
     },
     "execution_count": 48,
     "metadata": {},
     "output_type": "execute_result"
    }
   ],
   "source": [
    "\"\"\"Getters and setters in Python are methods used to access and modify the values of class attributes, allowing encapsulation and abstraction of data within a class.\"\"\""
   ]
  },
  {
   "cell_type": "code",
   "execution_count": 49,
   "id": "144d1d93-003c-441f-b0ea-eac646365d3f",
   "metadata": {},
   "outputs": [],
   "source": [
    "# example :\n",
    "class Person:\n",
    "    def __init__(self, name, age):\n",
    "        self._name = name\n",
    "        self._age = age\n",
    "    \n",
    "    def get_name(self):\n",
    "        return self._name\n",
    "    \n",
    "    def set_name(self, name):\n",
    "        self._name = name\n",
    "    \n",
    "    def get_age(self):\n",
    "        return self._age\n",
    "    \n",
    "    def set_age(self, age):\n",
    "        if age > 0:\n",
    "            self._age = age\n"
   ]
  },
  {
   "cell_type": "code",
   "execution_count": 53,
   "id": "5ccbe4fc-7d39-4f09-a56c-afb272ad173a",
   "metadata": {},
   "outputs": [],
   "source": [
    "person = Person(\"Durgesh singh \", 20)"
   ]
  },
  {
   "cell_type": "code",
   "execution_count": 54,
   "id": "03913217-09a5-45e8-9d80-6a2a0b58e917",
   "metadata": {},
   "outputs": [
    {
     "name": "stdout",
     "output_type": "stream",
     "text": [
      "Durgesh singh \n"
     ]
    }
   ],
   "source": [
    "print(person.get_name())"
   ]
  },
  {
   "cell_type": "code",
   "execution_count": 56,
   "id": "14ed88bd-5def-43aa-b6a0-2481f274f719",
   "metadata": {},
   "outputs": [
    {
     "name": "stdout",
     "output_type": "stream",
     "text": [
      "20\n"
     ]
    }
   ],
   "source": [
    "print(person.get_age())"
   ]
  },
  {
   "cell_type": "code",
   "execution_count": 59,
   "id": "aa52fc52-3e48-4475-a952-8e7b10cf4ef0",
   "metadata": {},
   "outputs": [],
   "source": [
    "person.set_name(\"DUrgesh Kumar Singh\")"
   ]
  },
  {
   "cell_type": "code",
   "execution_count": 60,
   "id": "c2f68f95-26ad-429c-8d2c-24e91deb2fae",
   "metadata": {},
   "outputs": [
    {
     "name": "stdout",
     "output_type": "stream",
     "text": [
      "DUrgesh Kumar Singh\n"
     ]
    }
   ],
   "source": [
    "print(person.get_name())"
   ]
  },
  {
   "cell_type": "code",
   "execution_count": 61,
   "id": "59166ef6-3a98-41f7-a6da-e2a708488de2",
   "metadata": {},
   "outputs": [],
   "source": [
    "person.set_age(21)"
   ]
  },
  {
   "cell_type": "code",
   "execution_count": 62,
   "id": "3cf89a8a-74a4-482e-b03d-bccef7fba35f",
   "metadata": {},
   "outputs": [
    {
     "name": "stdout",
     "output_type": "stream",
     "text": [
      "21\n"
     ]
    }
   ],
   "source": [
    "print(person.get_age())"
   ]
  },
  {
   "cell_type": "code",
   "execution_count": 63,
   "id": "d6fd648f-28f9-4be6-8dd5-6d8df762167d",
   "metadata": {},
   "outputs": [],
   "source": [
    " # 5 ans :- "
   ]
  },
  {
   "cell_type": "code",
   "execution_count": 64,
   "id": "401c6e35-5abd-486e-8af6-2b68ddc10e4b",
   "metadata": {},
   "outputs": [
    {
     "data": {
      "text/plain": [
       "'implementation of a method that is already defined in its superclass, effectively replacing the original implementation of the method with the new implementation in the subclass'"
      ]
     },
     "execution_count": 64,
     "metadata": {},
     "output_type": "execute_result"
    }
   ],
   "source": [
    "\"\"\"implementation of a method that is already defined in its superclass, effectively replacing the original implementation of the method with the new implementation in the subclass\"\"\""
   ]
  },
  {
   "cell_type": "code",
   "execution_count": 66,
   "id": "4a6cc5c4-3232-46d2-8b33-f131b7f1c7a4",
   "metadata": {},
   "outputs": [],
   "source": [
    "class pwskills :\n",
    "    mobile = 7070270432\n",
    "    \n",
    "    def __int__(self, name, email) :\n",
    "        self.name = name \n",
    "        self.email = email \n",
    "        \n",
    "    @classmethod \n",
    "    def change_mobile_number(cls, mobile) :\n",
    "        pwskills.mobile = mobile\n",
    "        \n",
    "    @classmethod\n",
    "    def details(cls, name, email):\n",
    "        return cls(name,email)\n",
    "    \n",
    "    def student_details(self) :\n",
    "        print(self.name,self.email)"
   ]
  },
  {
   "cell_type": "code",
   "execution_count": null,
   "id": "5987a779-798b-4641-9966-82845c6fda03",
   "metadata": {},
   "outputs": [],
   "source": [
    "pwskills.chan"
   ]
  }
 ],
 "metadata": {
  "kernelspec": {
   "display_name": "Python 3 (ipykernel)",
   "language": "python",
   "name": "python3"
  },
  "language_info": {
   "codemirror_mode": {
    "name": "ipython",
    "version": 3
   },
   "file_extension": ".py",
   "mimetype": "text/x-python",
   "name": "python",
   "nbconvert_exporter": "python",
   "pygments_lexer": "ipython3",
   "version": "3.10.8"
  }
 },
 "nbformat": 4,
 "nbformat_minor": 5
}
